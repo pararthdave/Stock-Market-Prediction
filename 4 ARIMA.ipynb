{
 "cells": [
  {
   "cell_type": "code",
   "execution_count": null,
   "metadata": {
    "colab": {
     "base_uri": "https://localhost:8080/"
    },
    "id": "KTy77STJdssu",
    "outputId": "14b3286a-6cba-4164-d056-5e1402c3961b"
   },
   "outputs": [
    {
     "name": "stdout",
     "output_type": "stream",
     "text": [
      "Collecting pmdarima\n",
      "\u001b[?25l  Downloading https://files.pythonhosted.org/packages/e4/a8/bdf15174e35d072e145d16388b1d3bc7605b752610170cb022a290411427/pmdarima-1.8.0-cp37-cp37m-manylinux1_x86_64.whl (1.5MB)\n",
      "\u001b[K     |████████████████████████████████| 1.5MB 5.7MB/s \n",
      "\u001b[?25hRequirement already satisfied: urllib3 in /usr/local/lib/python3.7/dist-packages (from pmdarima) (1.24.3)\n",
      "Requirement already satisfied: joblib>=0.11 in /usr/local/lib/python3.7/dist-packages (from pmdarima) (1.0.1)\n",
      "Requirement already satisfied: pandas>=0.19 in /usr/local/lib/python3.7/dist-packages (from pmdarima) (1.1.5)\n",
      "Requirement already satisfied: scipy>=1.3.2 in /usr/local/lib/python3.7/dist-packages (from pmdarima) (1.4.1)\n",
      "Collecting Cython<0.29.18,>=0.29\n",
      "\u001b[?25l  Downloading https://files.pythonhosted.org/packages/dc/6c/198da24bf0a1d5b5ee6119e891c5300bb1b0b8904832fac9ff62d4e381c9/Cython-0.29.17-cp37-cp37m-manylinux1_x86_64.whl (2.1MB)\n",
      "\u001b[K     |████████████████████████████████| 2.1MB 10.5MB/s \n",
      "\u001b[?25hCollecting statsmodels!=0.12.0,>=0.11\n",
      "\u001b[?25l  Downloading https://files.pythonhosted.org/packages/da/69/8eef30a6237c54f3c0b524140e2975f4b1eea3489b45eb3339574fc8acee/statsmodels-0.12.2-cp37-cp37m-manylinux1_x86_64.whl (9.5MB)\n",
      "\u001b[K     |████████████████████████████████| 9.5MB 30.7MB/s \n",
      "\u001b[?25hRequirement already satisfied: numpy>=1.17.3 in /usr/local/lib/python3.7/dist-packages (from pmdarima) (1.19.5)\n",
      "Requirement already satisfied: setuptools!=50.0.0,>=38.6.0 in /usr/local/lib/python3.7/dist-packages (from pmdarima) (54.2.0)\n",
      "Requirement already satisfied: scikit-learn>=0.22 in /usr/local/lib/python3.7/dist-packages (from pmdarima) (0.22.2.post1)\n",
      "Requirement already satisfied: python-dateutil>=2.7.3 in /usr/local/lib/python3.7/dist-packages (from pandas>=0.19->pmdarima) (2.8.1)\n",
      "Requirement already satisfied: pytz>=2017.2 in /usr/local/lib/python3.7/dist-packages (from pandas>=0.19->pmdarima) (2018.9)\n",
      "Requirement already satisfied: patsy>=0.5 in /usr/local/lib/python3.7/dist-packages (from statsmodels!=0.12.0,>=0.11->pmdarima) (0.5.1)\n",
      "Requirement already satisfied: six>=1.5 in /usr/local/lib/python3.7/dist-packages (from python-dateutil>=2.7.3->pandas>=0.19->pmdarima) (1.15.0)\n",
      "Installing collected packages: Cython, statsmodels, pmdarima\n",
      "  Found existing installation: Cython 0.29.22\n",
      "    Uninstalling Cython-0.29.22:\n",
      "      Successfully uninstalled Cython-0.29.22\n",
      "  Found existing installation: statsmodels 0.10.2\n",
      "    Uninstalling statsmodels-0.10.2:\n",
      "      Successfully uninstalled statsmodels-0.10.2\n",
      "Successfully installed Cython-0.29.17 pmdarima-1.8.0 statsmodels-0.12.2\n"
     ]
    }
   ],
   "source": [
    "!pip install pmdarima"
   ]
  },
  {
   "cell_type": "code",
   "execution_count": null,
   "metadata": {
    "id": "V0bxwpjKd8wh"
   },
   "outputs": [],
   "source": [
    "#Importing Necessary Libraries\n",
    "import pandas as pd\n",
    "import matplotlib.pyplot as plt\n",
    "from pmdarima.arima import auto_arima\n",
    "from statsmodels.tsa.stattools import adfuller\n",
    "from statsmodels.graphics.tsaplots import plot_acf\n",
    "from statsmodels.tsa.arima_model import ARIMA\n",
    "from statsmodels.tsa.ar_model import AR\n",
    "from sklearn.metrics import mean_squared_error, r2_score"
   ]
  },
  {
   "cell_type": "markdown",
   "metadata": {
    "id": "V-e8Y6tgeNK9"
   },
   "source": [
    "# ***Taking Entire Dataset***"
   ]
  },
  {
   "cell_type": "code",
   "execution_count": null,
   "metadata": {
    "id": "njRNJzE5eZ7y"
   },
   "outputs": [],
   "source": [
    "#Reading dataset\n",
    "DF = pd.read_csv(\"/content/drive/MyDrive/Nifty50.csv\")"
   ]
  },
  {
   "cell_type": "code",
   "execution_count": null,
   "metadata": {
    "colab": {
     "base_uri": "https://localhost:8080/",
     "height": 407
    },
    "id": "ODo0l1rdedFV",
    "outputId": "0758ad06-0e2e-4eb6-fb23-fbf8a62e89ea"
   },
   "outputs": [
    {
     "data": {
      "text/html": [
       "<div>\n",
       "<style scoped>\n",
       "    .dataframe tbody tr th:only-of-type {\n",
       "        vertical-align: middle;\n",
       "    }\n",
       "\n",
       "    .dataframe tbody tr th {\n",
       "        vertical-align: top;\n",
       "    }\n",
       "\n",
       "    .dataframe thead th {\n",
       "        text-align: right;\n",
       "    }\n",
       "</style>\n",
       "<table border=\"1\" class=\"dataframe\">\n",
       "  <thead>\n",
       "    <tr style=\"text-align: right;\">\n",
       "      <th></th>\n",
       "      <th>time</th>\n",
       "      <th>currentVal</th>\n",
       "    </tr>\n",
       "  </thead>\n",
       "  <tbody>\n",
       "    <tr>\n",
       "      <th>0</th>\n",
       "      <td>1546314300</td>\n",
       "      <td>10874.150391</td>\n",
       "    </tr>\n",
       "    <tr>\n",
       "      <th>1</th>\n",
       "      <td>1546314360</td>\n",
       "      <td>10875.750000</td>\n",
       "    </tr>\n",
       "    <tr>\n",
       "      <th>2</th>\n",
       "      <td>1546314420</td>\n",
       "      <td>10875.549805</td>\n",
       "    </tr>\n",
       "    <tr>\n",
       "      <th>3</th>\n",
       "      <td>1546314480</td>\n",
       "      <td>10865.049805</td>\n",
       "    </tr>\n",
       "    <tr>\n",
       "      <th>4</th>\n",
       "      <td>1546314540</td>\n",
       "      <td>10844.650391</td>\n",
       "    </tr>\n",
       "    <tr>\n",
       "      <th>...</th>\n",
       "      <td>...</td>\n",
       "      <td>...</td>\n",
       "    </tr>\n",
       "    <tr>\n",
       "      <th>206929</th>\n",
       "      <td>1616666220</td>\n",
       "      <td>14329.750000</td>\n",
       "    </tr>\n",
       "    <tr>\n",
       "      <th>206930</th>\n",
       "      <td>1616666280</td>\n",
       "      <td>14332.099609</td>\n",
       "    </tr>\n",
       "    <tr>\n",
       "      <th>206931</th>\n",
       "      <td>1616666340</td>\n",
       "      <td>14348.250000</td>\n",
       "    </tr>\n",
       "    <tr>\n",
       "      <th>206932</th>\n",
       "      <td>1616666400</td>\n",
       "      <td>14342.200195</td>\n",
       "    </tr>\n",
       "    <tr>\n",
       "      <th>206933</th>\n",
       "      <td>1616666460</td>\n",
       "      <td>14324.900391</td>\n",
       "    </tr>\n",
       "  </tbody>\n",
       "</table>\n",
       "<p>206934 rows × 2 columns</p>\n",
       "</div>"
      ],
      "text/plain": [
       "              time    currentVal\n",
       "0       1546314300  10874.150391\n",
       "1       1546314360  10875.750000\n",
       "2       1546314420  10875.549805\n",
       "3       1546314480  10865.049805\n",
       "4       1546314540  10844.650391\n",
       "...            ...           ...\n",
       "206929  1616666220  14329.750000\n",
       "206930  1616666280  14332.099609\n",
       "206931  1616666340  14348.250000\n",
       "206932  1616666400  14342.200195\n",
       "206933  1616666460  14324.900391\n",
       "\n",
       "[206934 rows x 2 columns]"
      ]
     },
     "execution_count": 4,
     "metadata": {
      "tags": []
     },
     "output_type": "execute_result"
    }
   ],
   "source": [
    "DF"
   ]
  },
  {
   "cell_type": "code",
   "execution_count": null,
   "metadata": {
    "id": "LhqLyZo5eiyl"
   },
   "outputs": [],
   "source": [
    "#Just for visualization purpose\n",
    "DF['time'] = pd.to_datetime(DF['time'], unit = 's')"
   ]
  },
  {
   "cell_type": "code",
   "execution_count": null,
   "metadata": {
    "colab": {
     "base_uri": "https://localhost:8080/",
     "height": 407
    },
    "id": "7qnVPgP2em0c",
    "outputId": "29062929-5e14-4fb6-ec20-be6ed091588c"
   },
   "outputs": [
    {
     "data": {
      "text/html": [
       "<div>\n",
       "<style scoped>\n",
       "    .dataframe tbody tr th:only-of-type {\n",
       "        vertical-align: middle;\n",
       "    }\n",
       "\n",
       "    .dataframe tbody tr th {\n",
       "        vertical-align: top;\n",
       "    }\n",
       "\n",
       "    .dataframe thead th {\n",
       "        text-align: right;\n",
       "    }\n",
       "</style>\n",
       "<table border=\"1\" class=\"dataframe\">\n",
       "  <thead>\n",
       "    <tr style=\"text-align: right;\">\n",
       "      <th></th>\n",
       "      <th>time</th>\n",
       "      <th>currentVal</th>\n",
       "    </tr>\n",
       "  </thead>\n",
       "  <tbody>\n",
       "    <tr>\n",
       "      <th>0</th>\n",
       "      <td>2019-01-01 03:45:00</td>\n",
       "      <td>10874.150391</td>\n",
       "    </tr>\n",
       "    <tr>\n",
       "      <th>1</th>\n",
       "      <td>2019-01-01 03:46:00</td>\n",
       "      <td>10875.750000</td>\n",
       "    </tr>\n",
       "    <tr>\n",
       "      <th>2</th>\n",
       "      <td>2019-01-01 03:47:00</td>\n",
       "      <td>10875.549805</td>\n",
       "    </tr>\n",
       "    <tr>\n",
       "      <th>3</th>\n",
       "      <td>2019-01-01 03:48:00</td>\n",
       "      <td>10865.049805</td>\n",
       "    </tr>\n",
       "    <tr>\n",
       "      <th>4</th>\n",
       "      <td>2019-01-01 03:49:00</td>\n",
       "      <td>10844.650391</td>\n",
       "    </tr>\n",
       "    <tr>\n",
       "      <th>...</th>\n",
       "      <td>...</td>\n",
       "      <td>...</td>\n",
       "    </tr>\n",
       "    <tr>\n",
       "      <th>206929</th>\n",
       "      <td>2021-03-25 09:57:00</td>\n",
       "      <td>14329.750000</td>\n",
       "    </tr>\n",
       "    <tr>\n",
       "      <th>206930</th>\n",
       "      <td>2021-03-25 09:58:00</td>\n",
       "      <td>14332.099609</td>\n",
       "    </tr>\n",
       "    <tr>\n",
       "      <th>206931</th>\n",
       "      <td>2021-03-25 09:59:00</td>\n",
       "      <td>14348.250000</td>\n",
       "    </tr>\n",
       "    <tr>\n",
       "      <th>206932</th>\n",
       "      <td>2021-03-25 10:00:00</td>\n",
       "      <td>14342.200195</td>\n",
       "    </tr>\n",
       "    <tr>\n",
       "      <th>206933</th>\n",
       "      <td>2021-03-25 10:01:00</td>\n",
       "      <td>14324.900391</td>\n",
       "    </tr>\n",
       "  </tbody>\n",
       "</table>\n",
       "<p>206934 rows × 2 columns</p>\n",
       "</div>"
      ],
      "text/plain": [
       "                      time    currentVal\n",
       "0      2019-01-01 03:45:00  10874.150391\n",
       "1      2019-01-01 03:46:00  10875.750000\n",
       "2      2019-01-01 03:47:00  10875.549805\n",
       "3      2019-01-01 03:48:00  10865.049805\n",
       "4      2019-01-01 03:49:00  10844.650391\n",
       "...                    ...           ...\n",
       "206929 2021-03-25 09:57:00  14329.750000\n",
       "206930 2021-03-25 09:58:00  14332.099609\n",
       "206931 2021-03-25 09:59:00  14348.250000\n",
       "206932 2021-03-25 10:00:00  14342.200195\n",
       "206933 2021-03-25 10:01:00  14324.900391\n",
       "\n",
       "[206934 rows x 2 columns]"
      ]
     },
     "execution_count": 6,
     "metadata": {
      "tags": []
     },
     "output_type": "execute_result"
    }
   ],
   "source": [
    "DF"
   ]
  },
  {
   "cell_type": "code",
   "execution_count": null,
   "metadata": {
    "id": "24s4zwjDeo58"
   },
   "outputs": [],
   "source": [
    "#Taking time column and index column as it is time series data\n",
    "DF.set_index('time', inplace = True)"
   ]
  },
  {
   "cell_type": "code",
   "execution_count": null,
   "metadata": {
    "colab": {
     "base_uri": "https://localhost:8080/",
     "height": 437
    },
    "id": "n9JkmJnVetSB",
    "outputId": "61d8fcdb-d10f-4dfd-acab-4a57d0ad823c"
   },
   "outputs": [
    {
     "data": {
      "text/html": [
       "<div>\n",
       "<style scoped>\n",
       "    .dataframe tbody tr th:only-of-type {\n",
       "        vertical-align: middle;\n",
       "    }\n",
       "\n",
       "    .dataframe tbody tr th {\n",
       "        vertical-align: top;\n",
       "    }\n",
       "\n",
       "    .dataframe thead th {\n",
       "        text-align: right;\n",
       "    }\n",
       "</style>\n",
       "<table border=\"1\" class=\"dataframe\">\n",
       "  <thead>\n",
       "    <tr style=\"text-align: right;\">\n",
       "      <th></th>\n",
       "      <th>currentVal</th>\n",
       "    </tr>\n",
       "    <tr>\n",
       "      <th>time</th>\n",
       "      <th></th>\n",
       "    </tr>\n",
       "  </thead>\n",
       "  <tbody>\n",
       "    <tr>\n",
       "      <th>2019-01-01 03:45:00</th>\n",
       "      <td>10874.150391</td>\n",
       "    </tr>\n",
       "    <tr>\n",
       "      <th>2019-01-01 03:46:00</th>\n",
       "      <td>10875.750000</td>\n",
       "    </tr>\n",
       "    <tr>\n",
       "      <th>2019-01-01 03:47:00</th>\n",
       "      <td>10875.549805</td>\n",
       "    </tr>\n",
       "    <tr>\n",
       "      <th>2019-01-01 03:48:00</th>\n",
       "      <td>10865.049805</td>\n",
       "    </tr>\n",
       "    <tr>\n",
       "      <th>2019-01-01 03:49:00</th>\n",
       "      <td>10844.650391</td>\n",
       "    </tr>\n",
       "    <tr>\n",
       "      <th>...</th>\n",
       "      <td>...</td>\n",
       "    </tr>\n",
       "    <tr>\n",
       "      <th>2021-03-25 09:57:00</th>\n",
       "      <td>14329.750000</td>\n",
       "    </tr>\n",
       "    <tr>\n",
       "      <th>2021-03-25 09:58:00</th>\n",
       "      <td>14332.099609</td>\n",
       "    </tr>\n",
       "    <tr>\n",
       "      <th>2021-03-25 09:59:00</th>\n",
       "      <td>14348.250000</td>\n",
       "    </tr>\n",
       "    <tr>\n",
       "      <th>2021-03-25 10:00:00</th>\n",
       "      <td>14342.200195</td>\n",
       "    </tr>\n",
       "    <tr>\n",
       "      <th>2021-03-25 10:01:00</th>\n",
       "      <td>14324.900391</td>\n",
       "    </tr>\n",
       "  </tbody>\n",
       "</table>\n",
       "<p>206934 rows × 1 columns</p>\n",
       "</div>"
      ],
      "text/plain": [
       "                       currentVal\n",
       "time                             \n",
       "2019-01-01 03:45:00  10874.150391\n",
       "2019-01-01 03:46:00  10875.750000\n",
       "2019-01-01 03:47:00  10875.549805\n",
       "2019-01-01 03:48:00  10865.049805\n",
       "2019-01-01 03:49:00  10844.650391\n",
       "...                           ...\n",
       "2021-03-25 09:57:00  14329.750000\n",
       "2021-03-25 09:58:00  14332.099609\n",
       "2021-03-25 09:59:00  14348.250000\n",
       "2021-03-25 10:00:00  14342.200195\n",
       "2021-03-25 10:01:00  14324.900391\n",
       "\n",
       "[206934 rows x 1 columns]"
      ]
     },
     "execution_count": 8,
     "metadata": {
      "tags": []
     },
     "output_type": "execute_result"
    }
   ],
   "source": [
    "DF"
   ]
  },
  {
   "cell_type": "code",
   "execution_count": null,
   "metadata": {
    "colab": {
     "base_uri": "https://localhost:8080/",
     "height": 338
    },
    "id": "h-zNFKnAbtHr",
    "outputId": "71268ab0-43bf-4907-c7be-cbfbec16e07b"
   },
   "outputs": [
    {
     "data": {
      "text/plain": [
       "[<matplotlib.lines.Line2D at 0x7fc164099350>]"
      ]
     },
     "execution_count": 16,
     "metadata": {
      "tags": []
     },
     "output_type": "execute_result"
    },
    {
     "data": {
      "image/png": "[encoded data removed]",
      "text/plain": [
       "<Figure size 720x360 with 1 Axes>"
      ]
     },
     "metadata": {
      "needs_background": "light",
      "tags": []
     },
     "output_type": "display_data"
    }
   ],
   "source": [
    "plt.figure(figsize=(10,5))\n",
    "plt.plot(DF)"
   ]
  },
  {
   "cell_type": "code",
   "execution_count": null,
   "metadata": {
    "id": "EJRCebfGey5w"
   },
   "outputs": [],
   "source": [
    "#Converting DataFrame to array\n",
    "X = DF.values"
   ]
  },
  {
   "cell_type": "code",
   "execution_count": null,
   "metadata": {
    "id": "UJ40zCjEe5Mp"
   },
   "outputs": [],
   "source": [
    "#Splitting train and test data into 95 - 5 ratio\n",
    "train = X[0:196588]\n",
    "test = X[196587:]\n",
    "predictions = []"
   ]
  },
  {
   "cell_type": "code",
   "execution_count": null,
   "metadata": {
    "colab": {
     "base_uri": "https://localhost:8080/"
    },
    "id": "yZAcbPoce8lS",
    "outputId": "09655775-29fe-4988-c8b6-099663a7ce4a"
   },
   "outputs": [
    {
     "data": {
      "text/plain": [
       "10347"
      ]
     },
     "execution_count": 11,
     "metadata": {
      "tags": []
     },
     "output_type": "execute_result"
    }
   ],
   "source": [
    "test.size"
   ]
  },
  {
   "cell_type": "code",
   "execution_count": null,
   "metadata": {
    "colab": {
     "base_uri": "https://localhost:8080/"
    },
    "id": "Kg6C2fu6fCvQ",
    "outputId": "71aebd4e-8da2-4f41-b440-b4c5fbdb02c6"
   },
   "outputs": [
    {
     "name": "stdout",
     "output_type": "stream",
     "text": [
      "Performing stepwise search to minimize aic\n",
      " ARIMA(0,1,0)(0,0,0)[0] intercept   : AIC=1359166.335, Time=3.95 sec\n",
      " ARIMA(1,1,0)(0,0,0)[0] intercept   : AIC=1359166.214, Time=4.82 sec\n",
      " ARIMA(0,1,1)(0,0,0)[0] intercept   : AIC=1359166.132, Time=9.07 sec\n",
      " ARIMA(0,1,0)(0,0,0)[0]             : AIC=1359165.924, Time=2.01 sec\n",
      " ARIMA(1,1,1)(0,0,0)[0] intercept   : AIC=1359147.995, Time=24.07 sec\n",
      " ARIMA(2,1,1)(0,0,0)[0] intercept   : AIC=1359098.949, Time=82.81 sec\n",
      " ARIMA(2,1,0)(0,0,0)[0] intercept   : AIC=1359100.132, Time=7.37 sec\n",
      " ARIMA(3,1,1)(0,0,0)[0] intercept   : AIC=1359098.343, Time=16.35 sec\n",
      " ARIMA(3,1,0)(0,0,0)[0] intercept   : AIC=1359096.324, Time=8.83 sec\n",
      " ARIMA(4,1,0)(0,0,0)[0] intercept   : AIC=1359093.407, Time=18.48 sec\n",
      " ARIMA(5,1,0)(0,0,0)[0] intercept   : AIC=1359043.397, Time=23.39 sec\n",
      " ARIMA(5,1,1)(0,0,0)[0] intercept   : AIC=1359045.452, Time=26.26 sec\n",
      " ARIMA(4,1,1)(0,0,0)[0] intercept   : AIC=1359095.347, Time=20.75 sec\n",
      " ARIMA(5,1,0)(0,0,0)[0]             : AIC=1359043.004, Time=10.09 sec\n",
      " ARIMA(4,1,0)(0,0,0)[0]             : AIC=1359093.067, Time=8.39 sec\n",
      " ARIMA(5,1,1)(0,0,0)[0]             : AIC=1359045.059, Time=11.30 sec\n",
      " ARIMA(4,1,1)(0,0,0)[0]             : AIC=1359095.008, Time=9.50 sec\n",
      "\n",
      "Best model:  ARIMA(5,1,0)(0,0,0)[0]          \n",
      "Total fit time: 287.523 seconds\n"
     ]
    }
   ],
   "source": [
    "#Using Auto ARIMA to get best possible combination of p d q parameter values\n",
    "#Taking maximum value of p and q as 5\n",
    "arima_model = auto_arima(train, start_p=0, start_q=0, max_p=5, max_q=5, stepwise=True, trace=True, random_state=20, n_fits=50)"
   ]
  },
  {
   "cell_type": "code",
   "execution_count": null,
   "metadata": {
    "colab": {
     "base_uri": "https://localhost:8080/"
    },
    "id": "k0zYhnsDfZyJ",
    "outputId": "01be1676-6bc2-4314-f999-f00be2b31945"
   },
   "outputs": [
    {
     "name": "stdout",
     "output_type": "stream",
     "text": [
      "Performing stepwise search to minimize aic\n",
      " ARIMA(0,1,0)(0,0,0)[0] intercept   : AIC=1359166.335, Time=4.24 sec\n",
      " ARIMA(1,1,0)(0,0,0)[0] intercept   : AIC=1359166.214, Time=5.48 sec\n",
      " ARIMA(0,1,1)(0,0,0)[0] intercept   : AIC=1359166.132, Time=10.85 sec\n",
      " ARIMA(0,1,0)(0,0,0)[0]             : AIC=1359165.924, Time=2.25 sec\n",
      " ARIMA(1,1,1)(0,0,0)[0] intercept   : AIC=1359147.995, Time=24.41 sec\n",
      " ARIMA(2,1,1)(0,0,0)[0] intercept   : AIC=1359098.949, Time=82.53 sec\n",
      " ARIMA(2,1,0)(0,0,0)[0] intercept   : AIC=1359100.132, Time=7.32 sec\n",
      " ARIMA(3,1,1)(0,0,0)[0] intercept   : AIC=1359098.343, Time=16.26 sec\n",
      " ARIMA(3,1,0)(0,0,0)[0] intercept   : AIC=1359096.324, Time=8.82 sec\n",
      " ARIMA(4,1,0)(0,0,0)[0] intercept   : AIC=1359093.407, Time=18.40 sec\n",
      " ARIMA(5,1,0)(0,0,0)[0] intercept   : AIC=1359043.397, Time=23.22 sec\n",
      " ARIMA(6,1,0)(0,0,0)[0] intercept   : AIC=1359040.861, Time=29.27 sec\n",
      " ARIMA(7,1,0)(0,0,0)[0] intercept   : AIC=1359042.022, Time=31.29 sec\n",
      " ARIMA(6,1,1)(0,0,0)[0] intercept   : AIC=1359042.868, Time=31.59 sec\n",
      " ARIMA(5,1,1)(0,0,0)[0] intercept   : AIC=1359045.452, Time=26.19 sec\n"
     ]
    }
   ],
   "source": [
    "#Increaing maximum value of p and q to 7\n",
    "arima_model = auto_arima(train, start_p=0, start_q=0, max_p=7, max_q=7, stepwise=True, trace=True, random_state=20, n_fits=50)\n",
    "\n",
    "#NOTE : After some time this cell stops executing as our dataset is quite big and hence RAM is getting chocked\n",
    "\n",
    "#Best possible combination which Auto ARIMA gave is (p,d,q) = (6,1,0)"
   ]
  },
  {
   "cell_type": "code",
   "execution_count": null,
   "metadata": {
    "colab": {
     "base_uri": "https://localhost:8080/"
    },
    "id": "kD6AsMuFiR8f",
    "outputId": "309b5c07-5536-4407-b971-77dfcb45f0c3"
   },
   "outputs": [
    {
     "name": "stderr",
     "output_type": "stream",
     "text": [
      "/usr/local/lib/python3.7/dist-packages/statsmodels/tsa/arima_model.py:472: FutureWarning: \n",
      "statsmodels.tsa.arima_model.ARMA and statsmodels.tsa.arima_model.ARIMA have\n",
      "been deprecated in favor of statsmodels.tsa.arima.model.ARIMA (note the .\n",
      "between arima and model) and\n",
      "statsmodels.tsa.SARIMAX. These will be removed after the 0.12 release.\n",
      "\n",
      "statsmodels.tsa.arima.model.ARIMA makes use of the statespace framework and\n",
      "is both well tested and maintained.\n",
      "\n",
      "To silence this warning and continue using ARMA and ARIMA until they are\n",
      "removed, use:\n",
      "\n",
      "import warnings\n",
      "warnings.filterwarnings('ignore', 'statsmodels.tsa.arima_model.ARMA',\n",
      "                        FutureWarning)\n",
      "warnings.filterwarnings('ignore', 'statsmodels.tsa.arima_model.ARIMA',\n",
      "                        FutureWarning)\n",
      "\n",
      "  warnings.warn(ARIMA_DEPRECATION_WARN, FutureWarning)\n"
     ]
    },
    {
     "name": "stdout",
     "output_type": "stream",
     "text": [
      "1359040.8582447008\n"
     ]
    }
   ],
   "source": [
    "#Taking (p,d,q) = (6,1,0)\n",
    "model_arima = ARIMA(train,order=(6, 1, 0))\n",
    "model_arima_fit = model_arima.fit()\n",
    "print(model_arima_fit.aic)"
   ]
  },
  {
   "cell_type": "code",
   "execution_count": null,
   "metadata": {
    "colab": {
     "base_uri": "https://localhost:8080/"
    },
    "id": "LhzCy2rYnF08",
    "outputId": "883a33ae-df69-4c41-a5c0-350edfa8e0ba"
   },
   "outputs": [
    {
     "data": {
      "text/plain": [
       "array([15162.79788088, 15162.70492454, 15162.44797591, ...,\n",
       "       15388.29698557, 15388.31879607, 15388.34060658])"
      ]
     },
     "execution_count": 13,
     "metadata": {
      "tags": []
     },
     "output_type": "execute_result"
    }
   ],
   "source": [
    "predictions = model_arima_fit.forecast(steps=10347)[0]\n",
    "predictions"
   ]
  },
  {
   "cell_type": "code",
   "execution_count": null,
   "metadata": {
    "colab": {
     "base_uri": "https://localhost:8080/",
     "height": 283
    },
    "id": "afUjohARnJec",
    "outputId": "1be6a167-7806-4413-b220-7d9d2d608167"
   },
   "outputs": [
    {
     "data": {
      "text/plain": [
       "[<matplotlib.lines.Line2D at 0x7fe259135f50>]"
      ]
     },
     "execution_count": 14,
     "metadata": {
      "tags": []
     },
     "output_type": "execute_result"
    },
    {
     "data": {
      "image/png": "[encoded data removed]",
      "text/plain": [
       "<Figure size 1080x288 with 1 Axes>"
      ]
     },
     "metadata": {
      "needs_background": "light",
      "tags": []
     },
     "output_type": "display_data"
    }
   ],
   "source": [
    "plt.figure(figsize=(15, 4))\n",
    "plt.plot(test)\n",
    "plt.plot(predictions,color='red')"
   ]
  },
  {
   "cell_type": "code",
   "execution_count": null,
   "metadata": {
    "colab": {
     "base_uri": "https://localhost:8080/"
    },
    "id": "xbR8S4pWnM1U",
    "outputId": "302fc092-76f2-4357-df1a-5964c07ff966"
   },
   "outputs": [
    {
     "name": "stdout",
     "output_type": "stream",
     "text": [
      "Mean Squared Error:  202065.88739874001\n",
      "R2 Score:  -2.380894373411513\n"
     ]
    }
   ],
   "source": [
    "print(\"Mean Squared Error: \", mean_squared_error(test, predictions))\n",
    "print(\"R2 Score: \", r2_score(test, predictions))"
   ]
  },
  {
   "cell_type": "code",
   "execution_count": null,
   "metadata": {
    "colab": {
     "base_uri": "https://localhost:8080/"
    },
    "id": "4D-ii3dSnb0i",
    "outputId": "48979ca7-6c1f-4baa-cdbf-fb6dded17f26"
   },
   "outputs": [
    {
     "name": "stderr",
     "output_type": "stream",
     "text": [
      "/usr/local/lib/python3.7/dist-packages/statsmodels/tsa/arima_model.py:472: FutureWarning: \n",
      "statsmodels.tsa.arima_model.ARMA and statsmodels.tsa.arima_model.ARIMA have\n",
      "been deprecated in favor of statsmodels.tsa.arima.model.ARIMA (note the .\n",
      "between arima and model) and\n",
      "statsmodels.tsa.SARIMAX. These will be removed after the 0.12 release.\n",
      "\n",
      "statsmodels.tsa.arima.model.ARIMA makes use of the statespace framework and\n",
      "is both well tested and maintained.\n",
      "\n",
      "To silence this warning and continue using ARMA and ARIMA until they are\n",
      "removed, use:\n",
      "\n",
      "import warnings\n",
      "warnings.filterwarnings('ignore', 'statsmodels.tsa.arima_model.ARMA',\n",
      "                        FutureWarning)\n",
      "warnings.filterwarnings('ignore', 'statsmodels.tsa.arima_model.ARIMA',\n",
      "                        FutureWarning)\n",
      "\n",
      "  warnings.warn(ARIMA_DEPRECATION_WARN, FutureWarning)\n"
     ]
    },
    {
     "name": "stdout",
     "output_type": "stream",
     "text": [
      "1358769.5111008363\n"
     ]
    }
   ],
   "source": [
    "#Taking (p,d,q) = (0,1,8)\n",
    "\n",
    "#After manual trial and error method this is the best possible combination achieved\n",
    "\n",
    "model_arima = ARIMA(train,order=(0, 1, 8))\n",
    "model_arima_fit = model_arima.fit()\n",
    "print(model_arima_fit.aic)"
   ]
  },
  {
   "cell_type": "code",
   "execution_count": null,
   "metadata": {
    "colab": {
     "base_uri": "https://localhost:8080/"
    },
    "id": "BBP0jFJ7nkR6",
    "outputId": "82892037-3e11-4b06-837d-a8039ead4c62"
   },
   "outputs": [
    {
     "data": {
      "text/plain": [
       "array([15163.120437  , 15162.86665254, 15162.55775186, ...,\n",
       "       15387.19688963, 15387.21870366, 15387.24051768])"
      ]
     },
     "execution_count": 19,
     "metadata": {
      "tags": []
     },
     "output_type": "execute_result"
    }
   ],
   "source": [
    "predictions = model_arima_fit.forecast(steps=10347)[0]\n",
    "predictions"
   ]
  },
  {
   "cell_type": "code",
   "execution_count": null,
   "metadata": {
    "colab": {
     "base_uri": "https://localhost:8080/",
     "height": 283
    },
    "id": "pZdNQU7Vnmt3",
    "outputId": "8201d460-989e-42a6-c1b4-943f78207774"
   },
   "outputs": [
    {
     "data": {
      "text/plain": [
       "[<matplotlib.lines.Line2D at 0x7fe258ab8690>]"
      ]
     },
     "execution_count": 20,
     "metadata": {
      "tags": []
     },
     "output_type": "execute_result"
    },
    {
     "data": {
      "image/png": "[encoded data removed]",
      "text/plain": [
       "<Figure size 1080x288 with 1 Axes>"
      ]
     },
     "metadata": {
      "needs_background": "light",
      "tags": []
     },
     "output_type": "display_data"
    }
   ],
   "source": [
    "plt.figure(figsize=(15, 4))\n",
    "plt.plot(test)\n",
    "plt.plot(predictions,color='red')"
   ]
  },
  {
   "cell_type": "code",
   "execution_count": null,
   "metadata": {
    "colab": {
     "base_uri": "https://localhost:8080/"
    },
    "id": "csAxmjvFnpaB",
    "outputId": "0495df97-34f6-4e31-c704-3c4b41828132"
   },
   "outputs": [
    {
     "name": "stdout",
     "output_type": "stream",
     "text": [
      "Mean Squared Error:  201302.6090689985\n",
      "R2 Score:  -2.3681234725752045\n"
     ]
    }
   ],
   "source": [
    "print(\"Mean Squared Error: \", mean_squared_error(test, predictions))\n",
    "print(\"R2 Score: \", r2_score(test, predictions))"
   ]
  },
  {
   "cell_type": "markdown",
   "metadata": {
    "id": "HI8JJ9J3n1B0"
   },
   "source": [
    "# ***Taking Specific Time Frame***"
   ]
  },
  {
   "cell_type": "code",
   "execution_count": null,
   "metadata": {
    "id": "mmZcXb9bn65Z"
   },
   "outputs": [],
   "source": [
    "DF = pd.read_csv(\"/content/drive/MyDrive/Nifty50.csv\")\n",
    "DF['time'] = pd.to_datetime(DF['time'], unit = 's')"
   ]
  },
  {
   "cell_type": "code",
   "execution_count": null,
   "metadata": {
    "colab": {
     "base_uri": "https://localhost:8080/",
     "height": 407
    },
    "id": "t8k7hCLzoCZR",
    "outputId": "9d27cd12-dae7-4006-9d04-9f6e523219cb"
   },
   "outputs": [
    {
     "data": {
      "text/html": [
       "<div>\n",
       "<style scoped>\n",
       "    .dataframe tbody tr th:only-of-type {\n",
       "        vertical-align: middle;\n",
       "    }\n",
       "\n",
       "    .dataframe tbody tr th {\n",
       "        vertical-align: top;\n",
       "    }\n",
       "\n",
       "    .dataframe thead th {\n",
       "        text-align: right;\n",
       "    }\n",
       "</style>\n",
       "<table border=\"1\" class=\"dataframe\">\n",
       "  <thead>\n",
       "    <tr style=\"text-align: right;\">\n",
       "      <th></th>\n",
       "      <th>time</th>\n",
       "      <th>currentVal</th>\n",
       "    </tr>\n",
       "  </thead>\n",
       "  <tbody>\n",
       "    <tr>\n",
       "      <th>0</th>\n",
       "      <td>2019-01-01 03:45:00</td>\n",
       "      <td>10874.150391</td>\n",
       "    </tr>\n",
       "    <tr>\n",
       "      <th>1</th>\n",
       "      <td>2019-01-01 03:46:00</td>\n",
       "      <td>10875.750000</td>\n",
       "    </tr>\n",
       "    <tr>\n",
       "      <th>2</th>\n",
       "      <td>2019-01-01 03:47:00</td>\n",
       "      <td>10875.549805</td>\n",
       "    </tr>\n",
       "    <tr>\n",
       "      <th>3</th>\n",
       "      <td>2019-01-01 03:48:00</td>\n",
       "      <td>10865.049805</td>\n",
       "    </tr>\n",
       "    <tr>\n",
       "      <th>4</th>\n",
       "      <td>2019-01-01 03:49:00</td>\n",
       "      <td>10844.650391</td>\n",
       "    </tr>\n",
       "    <tr>\n",
       "      <th>...</th>\n",
       "      <td>...</td>\n",
       "      <td>...</td>\n",
       "    </tr>\n",
       "    <tr>\n",
       "      <th>206929</th>\n",
       "      <td>2021-03-25 09:57:00</td>\n",
       "      <td>14329.750000</td>\n",
       "    </tr>\n",
       "    <tr>\n",
       "      <th>206930</th>\n",
       "      <td>2021-03-25 09:58:00</td>\n",
       "      <td>14332.099609</td>\n",
       "    </tr>\n",
       "    <tr>\n",
       "      <th>206931</th>\n",
       "      <td>2021-03-25 09:59:00</td>\n",
       "      <td>14348.250000</td>\n",
       "    </tr>\n",
       "    <tr>\n",
       "      <th>206932</th>\n",
       "      <td>2021-03-25 10:00:00</td>\n",
       "      <td>14342.200195</td>\n",
       "    </tr>\n",
       "    <tr>\n",
       "      <th>206933</th>\n",
       "      <td>2021-03-25 10:01:00</td>\n",
       "      <td>14324.900391</td>\n",
       "    </tr>\n",
       "  </tbody>\n",
       "</table>\n",
       "<p>206934 rows × 2 columns</p>\n",
       "</div>"
      ],
      "text/plain": [
       "                      time    currentVal\n",
       "0      2019-01-01 03:45:00  10874.150391\n",
       "1      2019-01-01 03:46:00  10875.750000\n",
       "2      2019-01-01 03:47:00  10875.549805\n",
       "3      2019-01-01 03:48:00  10865.049805\n",
       "4      2019-01-01 03:49:00  10844.650391\n",
       "...                    ...           ...\n",
       "206929 2021-03-25 09:57:00  14329.750000\n",
       "206930 2021-03-25 09:58:00  14332.099609\n",
       "206931 2021-03-25 09:59:00  14348.250000\n",
       "206932 2021-03-25 10:00:00  14342.200195\n",
       "206933 2021-03-25 10:01:00  14324.900391\n",
       "\n",
       "[206934 rows x 2 columns]"
      ]
     },
     "execution_count": 18,
     "metadata": {
      "tags": []
     },
     "output_type": "execute_result"
    }
   ],
   "source": [
    "DF"
   ]
  },
  {
   "cell_type": "code",
   "execution_count": null,
   "metadata": {
    "id": "YrB_Om-hoJuF"
   },
   "outputs": [],
   "source": [
    "#Taking only 1 year data (01-01-2019 to 31-12-2019) for experimental purpose. Wanted to see how ARIMA performs in this case\n",
    "\n",
    "#Reason to take this period was that after this period lockdown started and hence there was a big dip in graph\n",
    "#Hence we took pre covid time period as it was some sort of stationary data\n",
    "\n",
    "TestDF = DF[0:91498]"
   ]
  },
  {
   "cell_type": "code",
   "execution_count": null,
   "metadata": {
    "colab": {
     "base_uri": "https://localhost:8080/",
     "height": 407
    },
    "id": "xm1uvN4voLbD",
    "outputId": "39f33a3e-1ba2-46c9-aeb2-4f9549aec25a"
   },
   "outputs": [
    {
     "data": {
      "text/html": [
       "<div>\n",
       "<style scoped>\n",
       "    .dataframe tbody tr th:only-of-type {\n",
       "        vertical-align: middle;\n",
       "    }\n",
       "\n",
       "    .dataframe tbody tr th {\n",
       "        vertical-align: top;\n",
       "    }\n",
       "\n",
       "    .dataframe thead th {\n",
       "        text-align: right;\n",
       "    }\n",
       "</style>\n",
       "<table border=\"1\" class=\"dataframe\">\n",
       "  <thead>\n",
       "    <tr style=\"text-align: right;\">\n",
       "      <th></th>\n",
       "      <th>time</th>\n",
       "      <th>currentVal</th>\n",
       "    </tr>\n",
       "  </thead>\n",
       "  <tbody>\n",
       "    <tr>\n",
       "      <th>0</th>\n",
       "      <td>2019-01-01 03:45:00</td>\n",
       "      <td>10874.150391</td>\n",
       "    </tr>\n",
       "    <tr>\n",
       "      <th>1</th>\n",
       "      <td>2019-01-01 03:46:00</td>\n",
       "      <td>10875.750000</td>\n",
       "    </tr>\n",
       "    <tr>\n",
       "      <th>2</th>\n",
       "      <td>2019-01-01 03:47:00</td>\n",
       "      <td>10875.549805</td>\n",
       "    </tr>\n",
       "    <tr>\n",
       "      <th>3</th>\n",
       "      <td>2019-01-01 03:48:00</td>\n",
       "      <td>10865.049805</td>\n",
       "    </tr>\n",
       "    <tr>\n",
       "      <th>4</th>\n",
       "      <td>2019-01-01 03:49:00</td>\n",
       "      <td>10844.650391</td>\n",
       "    </tr>\n",
       "    <tr>\n",
       "      <th>...</th>\n",
       "      <td>...</td>\n",
       "      <td>...</td>\n",
       "    </tr>\n",
       "    <tr>\n",
       "      <th>91493</th>\n",
       "      <td>2019-12-31 09:55:00</td>\n",
       "      <td>12178.549805</td>\n",
       "    </tr>\n",
       "    <tr>\n",
       "      <th>91494</th>\n",
       "      <td>2019-12-31 09:56:00</td>\n",
       "      <td>12174.650391</td>\n",
       "    </tr>\n",
       "    <tr>\n",
       "      <th>91495</th>\n",
       "      <td>2019-12-31 09:57:00</td>\n",
       "      <td>12173.700195</td>\n",
       "    </tr>\n",
       "    <tr>\n",
       "      <th>91496</th>\n",
       "      <td>2019-12-31 09:58:00</td>\n",
       "      <td>12172.349609</td>\n",
       "    </tr>\n",
       "    <tr>\n",
       "      <th>91497</th>\n",
       "      <td>2019-12-31 09:59:00</td>\n",
       "      <td>12176.299805</td>\n",
       "    </tr>\n",
       "  </tbody>\n",
       "</table>\n",
       "<p>91498 rows × 2 columns</p>\n",
       "</div>"
      ],
      "text/plain": [
       "                     time    currentVal\n",
       "0     2019-01-01 03:45:00  10874.150391\n",
       "1     2019-01-01 03:46:00  10875.750000\n",
       "2     2019-01-01 03:47:00  10875.549805\n",
       "3     2019-01-01 03:48:00  10865.049805\n",
       "4     2019-01-01 03:49:00  10844.650391\n",
       "...                   ...           ...\n",
       "91493 2019-12-31 09:55:00  12178.549805\n",
       "91494 2019-12-31 09:56:00  12174.650391\n",
       "91495 2019-12-31 09:57:00  12173.700195\n",
       "91496 2019-12-31 09:58:00  12172.349609\n",
       "91497 2019-12-31 09:59:00  12176.299805\n",
       "\n",
       "[91498 rows x 2 columns]"
      ]
     },
     "execution_count": 20,
     "metadata": {
      "tags": []
     },
     "output_type": "execute_result"
    }
   ],
   "source": [
    "TestDF"
   ]
  },
  {
   "cell_type": "code",
   "execution_count": null,
   "metadata": {
    "id": "9EXsUU5zoN4Y"
   },
   "outputs": [],
   "source": [
    "TestDF.set_index('time', inplace = True)"
   ]
  },
  {
   "cell_type": "code",
   "execution_count": null,
   "metadata": {
    "colab": {
     "base_uri": "https://localhost:8080/",
     "height": 437
    },
    "id": "kVq2lAeZoSJo",
    "outputId": "0d6f37d1-6ee7-4d14-e73e-77252ea51482"
   },
   "outputs": [
    {
     "data": {
      "text/html": [
       "<div>\n",
       "<style scoped>\n",
       "    .dataframe tbody tr th:only-of-type {\n",
       "        vertical-align: middle;\n",
       "    }\n",
       "\n",
       "    .dataframe tbody tr th {\n",
       "        vertical-align: top;\n",
       "    }\n",
       "\n",
       "    .dataframe thead th {\n",
       "        text-align: right;\n",
       "    }\n",
       "</style>\n",
       "<table border=\"1\" class=\"dataframe\">\n",
       "  <thead>\n",
       "    <tr style=\"text-align: right;\">\n",
       "      <th></th>\n",
       "      <th>currentVal</th>\n",
       "    </tr>\n",
       "    <tr>\n",
       "      <th>time</th>\n",
       "      <th></th>\n",
       "    </tr>\n",
       "  </thead>\n",
       "  <tbody>\n",
       "    <tr>\n",
       "      <th>2019-01-01 03:45:00</th>\n",
       "      <td>10874.150391</td>\n",
       "    </tr>\n",
       "    <tr>\n",
       "      <th>2019-01-01 03:46:00</th>\n",
       "      <td>10875.750000</td>\n",
       "    </tr>\n",
       "    <tr>\n",
       "      <th>2019-01-01 03:47:00</th>\n",
       "      <td>10875.549805</td>\n",
       "    </tr>\n",
       "    <tr>\n",
       "      <th>2019-01-01 03:48:00</th>\n",
       "      <td>10865.049805</td>\n",
       "    </tr>\n",
       "    <tr>\n",
       "      <th>2019-01-01 03:49:00</th>\n",
       "      <td>10844.650391</td>\n",
       "    </tr>\n",
       "    <tr>\n",
       "      <th>...</th>\n",
       "      <td>...</td>\n",
       "    </tr>\n",
       "    <tr>\n",
       "      <th>2019-12-31 09:55:00</th>\n",
       "      <td>12178.549805</td>\n",
       "    </tr>\n",
       "    <tr>\n",
       "      <th>2019-12-31 09:56:00</th>\n",
       "      <td>12174.650391</td>\n",
       "    </tr>\n",
       "    <tr>\n",
       "      <th>2019-12-31 09:57:00</th>\n",
       "      <td>12173.700195</td>\n",
       "    </tr>\n",
       "    <tr>\n",
       "      <th>2019-12-31 09:58:00</th>\n",
       "      <td>12172.349609</td>\n",
       "    </tr>\n",
       "    <tr>\n",
       "      <th>2019-12-31 09:59:00</th>\n",
       "      <td>12176.299805</td>\n",
       "    </tr>\n",
       "  </tbody>\n",
       "</table>\n",
       "<p>91498 rows × 1 columns</p>\n",
       "</div>"
      ],
      "text/plain": [
       "                       currentVal\n",
       "time                             \n",
       "2019-01-01 03:45:00  10874.150391\n",
       "2019-01-01 03:46:00  10875.750000\n",
       "2019-01-01 03:47:00  10875.549805\n",
       "2019-01-01 03:48:00  10865.049805\n",
       "2019-01-01 03:49:00  10844.650391\n",
       "...                           ...\n",
       "2019-12-31 09:55:00  12178.549805\n",
       "2019-12-31 09:56:00  12174.650391\n",
       "2019-12-31 09:57:00  12173.700195\n",
       "2019-12-31 09:58:00  12172.349609\n",
       "2019-12-31 09:59:00  12176.299805\n",
       "\n",
       "[91498 rows x 1 columns]"
      ]
     },
     "execution_count": 22,
     "metadata": {
      "tags": []
     },
     "output_type": "execute_result"
    }
   ],
   "source": [
    "TestDF"
   ]
  },
  {
   "cell_type": "code",
   "execution_count": null,
   "metadata": {
    "colab": {
     "base_uri": "https://localhost:8080/",
     "height": 338
    },
    "id": "pldH2g6ZiabB",
    "outputId": "c45c9c04-2ca4-4594-add2-c6abe0974dd7"
   },
   "outputs": [
    {
     "data": {
      "text/plain": [
       "[<matplotlib.lines.Line2D at 0x7fc1645e0f10>]"
      ]
     },
     "execution_count": 23,
     "metadata": {
      "tags": []
     },
     "output_type": "execute_result"
    },
    {
     "data": {
      "image/png": "[encoded data removed]",
      "text/plain": [
       "<Figure size 720x360 with 1 Axes>"
      ]
     },
     "metadata": {
      "needs_background": "light",
      "tags": []
     },
     "output_type": "display_data"
    }
   ],
   "source": [
    "plt.figure(figsize=(10,5))\n",
    "plt.plot(TestDF)"
   ]
  },
  {
   "cell_type": "code",
   "execution_count": null,
   "metadata": {
    "id": "9Zx8Dn4toWUL"
   },
   "outputs": [],
   "source": [
    "X = TestDF.values"
   ]
  },
  {
   "cell_type": "code",
   "execution_count": null,
   "metadata": {
    "id": "rX7ld11GoXhR"
   },
   "outputs": [],
   "source": [
    "train = X[0:82348]\n",
    "test = X[82347:91498]\n",
    "predictions = []"
   ]
  },
  {
   "cell_type": "code",
   "execution_count": null,
   "metadata": {
    "colab": {
     "base_uri": "https://localhost:8080/"
    },
    "id": "xxT9NJPBoaML",
    "outputId": "93a1e122-d4db-4789-831e-ef75f8970bde"
   },
   "outputs": [
    {
     "data": {
      "text/plain": [
       "9151"
      ]
     },
     "execution_count": 31,
     "metadata": {
      "tags": []
     },
     "output_type": "execute_result"
    }
   ],
   "source": [
    "test.size"
   ]
  },
  {
   "cell_type": "code",
   "execution_count": null,
   "metadata": {
    "colab": {
     "base_uri": "https://localhost:8080/"
    },
    "id": "VMew_Da4ob5_",
    "outputId": "3566dde8-4c08-49be-a355-aaf50c3a89ea"
   },
   "outputs": [
    {
     "name": "stdout",
     "output_type": "stream",
     "text": [
      "Performing stepwise search to minimize aic\n",
      " ARIMA(0,1,0)(0,0,0)[0] intercept   : AIC=492345.656, Time=1.87 sec\n",
      " ARIMA(1,1,0)(0,0,0)[0] intercept   : AIC=492345.986, Time=2.31 sec\n",
      " ARIMA(0,1,1)(0,0,0)[0] intercept   : AIC=492345.934, Time=4.43 sec\n",
      " ARIMA(0,1,0)(0,0,0)[0]             : AIC=492344.420, Time=1.04 sec\n",
      " ARIMA(1,1,1)(0,0,0)[0] intercept   : AIC=492343.549, Time=11.92 sec\n",
      " ARIMA(2,1,1)(0,0,0)[0] intercept   : AIC=492329.585, Time=9.25 sec\n",
      " ARIMA(2,1,0)(0,0,0)[0] intercept   : AIC=492327.574, Time=3.32 sec\n",
      " ARIMA(3,1,0)(0,0,0)[0] intercept   : AIC=492329.533, Time=4.09 sec\n",
      " ARIMA(3,1,1)(0,0,0)[0] intercept   : AIC=492331.537, Time=7.74 sec\n",
      " ARIMA(2,1,0)(0,0,0)[0]             : AIC=492326.369, Time=1.71 sec\n",
      " ARIMA(1,1,0)(0,0,0)[0]             : AIC=492344.757, Time=1.01 sec\n",
      " ARIMA(3,1,0)(0,0,0)[0]             : AIC=492328.329, Time=2.10 sec\n",
      " ARIMA(2,1,1)(0,0,0)[0]             : AIC=492328.382, Time=3.37 sec\n",
      " ARIMA(1,1,1)(0,0,0)[0]             : AIC=492341.038, Time=9.60 sec\n",
      " ARIMA(3,1,1)(0,0,0)[0]             : AIC=492330.333, Time=4.11 sec\n",
      "\n",
      "Best model:  ARIMA(2,1,0)(0,0,0)[0]          \n",
      "Total fit time: 67.916 seconds\n"
     ]
    }
   ],
   "source": [
    "#Using Auto ARIMA to get best possible combination of p d q parameter values\n",
    "#Taking maximum value of p and q as 5\n",
    "arima_model = auto_arima(train, start_p=0, start_q=0, max_p=5, max_q=5, stepwise=True, trace=True, random_state=20, n_fits=50)"
   ]
  },
  {
   "cell_type": "code",
   "execution_count": null,
   "metadata": {
    "colab": {
     "base_uri": "https://localhost:8080/"
    },
    "id": "ApPzGWTaoj2y",
    "outputId": "bd60c4da-645b-493b-d6d7-43ccb2ff0da1"
   },
   "outputs": [
    {
     "name": "stdout",
     "output_type": "stream",
     "text": [
      "Performing stepwise search to minimize aic\n",
      " ARIMA(0,1,0)(0,0,0)[0] intercept   : AIC=492345.656, Time=1.78 sec\n",
      " ARIMA(1,1,0)(0,0,0)[0] intercept   : AIC=492345.986, Time=2.22 sec\n",
      " ARIMA(0,1,1)(0,0,0)[0] intercept   : AIC=492345.934, Time=4.31 sec\n",
      " ARIMA(0,1,0)(0,0,0)[0]             : AIC=492344.420, Time=0.83 sec\n",
      " ARIMA(1,1,1)(0,0,0)[0] intercept   : AIC=492343.549, Time=11.86 sec\n",
      " ARIMA(2,1,1)(0,0,0)[0] intercept   : AIC=492329.585, Time=9.78 sec\n",
      " ARIMA(2,1,0)(0,0,0)[0] intercept   : AIC=492327.574, Time=3.66 sec\n",
      " ARIMA(3,1,0)(0,0,0)[0] intercept   : AIC=492329.533, Time=5.24 sec\n",
      " ARIMA(3,1,1)(0,0,0)[0] intercept   : AIC=492331.537, Time=7.67 sec\n",
      " ARIMA(2,1,0)(0,0,0)[0]             : AIC=492326.369, Time=1.68 sec\n",
      " ARIMA(1,1,0)(0,0,0)[0]             : AIC=492344.757, Time=1.00 sec\n",
      " ARIMA(3,1,0)(0,0,0)[0]             : AIC=492328.329, Time=2.05 sec\n",
      " ARIMA(2,1,1)(0,0,0)[0]             : AIC=492328.382, Time=3.36 sec\n",
      " ARIMA(1,1,1)(0,0,0)[0]             : AIC=492341.038, Time=9.51 sec\n",
      " ARIMA(3,1,1)(0,0,0)[0]             : AIC=492330.333, Time=4.09 sec\n",
      "\n",
      "Best model:  ARIMA(2,1,0)(0,0,0)[0]          \n",
      "Total fit time: 69.073 seconds\n"
     ]
    }
   ],
   "source": [
    "#Increasing maximum value of p and q parameters to 7\n",
    "arima_model = auto_arima(train, start_p=0, start_q=0, max_p=7, max_q=7, stepwise=True, trace=True, random_state=20, n_fits=50)"
   ]
  },
  {
   "cell_type": "code",
   "execution_count": null,
   "metadata": {
    "colab": {
     "base_uri": "https://localhost:8080/"
    },
    "id": "_lz4uNSyonYw",
    "outputId": "baf0a93b-893b-4f9b-e06e-26de850d5ae6"
   },
   "outputs": [
    {
     "name": "stdout",
     "output_type": "stream",
     "text": [
      "Performing stepwise search to minimize aic\n",
      " ARIMA(0,1,0)(0,0,0)[0] intercept   : AIC=492345.656, Time=1.77 sec\n",
      " ARIMA(1,1,0)(0,0,0)[0] intercept   : AIC=492345.986, Time=2.24 sec\n",
      " ARIMA(0,1,1)(0,0,0)[0] intercept   : AIC=492345.934, Time=4.27 sec\n",
      " ARIMA(0,1,0)(0,0,0)[0]             : AIC=492344.420, Time=0.83 sec\n",
      " ARIMA(1,1,1)(0,0,0)[0] intercept   : AIC=492343.549, Time=11.79 sec\n",
      " ARIMA(2,1,1)(0,0,0)[0] intercept   : AIC=492329.585, Time=9.07 sec\n",
      " ARIMA(2,1,0)(0,0,0)[0] intercept   : AIC=492327.574, Time=3.34 sec\n",
      " ARIMA(3,1,0)(0,0,0)[0] intercept   : AIC=492329.533, Time=3.94 sec\n",
      " ARIMA(3,1,1)(0,0,0)[0] intercept   : AIC=492331.537, Time=7.72 sec\n",
      " ARIMA(2,1,0)(0,0,0)[0]             : AIC=492326.369, Time=1.68 sec\n",
      " ARIMA(1,1,0)(0,0,0)[0]             : AIC=492344.757, Time=1.01 sec\n",
      " ARIMA(3,1,0)(0,0,0)[0]             : AIC=492328.329, Time=2.03 sec\n",
      " ARIMA(2,1,1)(0,0,0)[0]             : AIC=492328.382, Time=3.33 sec\n",
      " ARIMA(1,1,1)(0,0,0)[0]             : AIC=492341.038, Time=9.51 sec\n",
      " ARIMA(3,1,1)(0,0,0)[0]             : AIC=492330.333, Time=3.95 sec\n",
      "\n",
      "Best model:  ARIMA(2,1,0)(0,0,0)[0]          \n",
      "Total fit time: 66.525 seconds\n"
     ]
    }
   ],
   "source": [
    "#Increasing maximum value of p and q parameters to 10\n",
    "arima_model = auto_arima(train, start_p=0, start_q=0, max_p=10, max_q=10, stepwise=True, trace=True, random_state=20, n_fits=50)\n",
    "\n",
    "#NOTE : Even after increasing maximum value of p and q parameters to 10 we were getting same best model"
   ]
  },
  {
   "cell_type": "code",
   "execution_count": null,
   "metadata": {
    "colab": {
     "base_uri": "https://localhost:8080/"
    },
    "id": "CoYNPw5eo41e",
    "outputId": "79f05c90-639b-432d-dfb9-270e0d1fd2b9"
   },
   "outputs": [
    {
     "name": "stderr",
     "output_type": "stream",
     "text": [
      "/usr/local/lib/python3.7/dist-packages/statsmodels/tsa/arima_model.py:472: FutureWarning: \n",
      "statsmodels.tsa.arima_model.ARMA and statsmodels.tsa.arima_model.ARIMA have\n",
      "been deprecated in favor of statsmodels.tsa.arima.model.ARIMA (note the .\n",
      "between arima and model) and\n",
      "statsmodels.tsa.SARIMAX. These will be removed after the 0.12 release.\n",
      "\n",
      "statsmodels.tsa.arima.model.ARIMA makes use of the statespace framework and\n",
      "is both well tested and maintained.\n",
      "\n",
      "To silence this warning and continue using ARMA and ARIMA until they are\n",
      "removed, use:\n",
      "\n",
      "import warnings\n",
      "warnings.filterwarnings('ignore', 'statsmodels.tsa.arima_model.ARMA',\n",
      "                        FutureWarning)\n",
      "warnings.filterwarnings('ignore', 'statsmodels.tsa.arima_model.ARIMA',\n",
      "                        FutureWarning)\n",
      "\n",
      "  warnings.warn(ARIMA_DEPRECATION_WARN, FutureWarning)\n"
     ]
    },
    {
     "name": "stdout",
     "output_type": "stream",
     "text": [
      "492327.5736421696\n"
     ]
    }
   ],
   "source": [
    "#Taking (p,d,q) = (2,1,0)\n",
    "model_arima = ARIMA(train,order=(2, 1, 0))\n",
    "model_arima_fit = model_arima.fit()\n",
    "print(model_arima_fit.aic)"
   ]
  },
  {
   "cell_type": "code",
   "execution_count": null,
   "metadata": {
    "colab": {
     "base_uri": "https://localhost:8080/"
    },
    "id": "5v8O7ahbo694",
    "outputId": "e7be7684-3c6a-4010-8240-4070d1ac98f8"
   },
   "outputs": [
    {
     "data": {
      "text/plain": [
       "array([12080.50606629, 12080.49635851, 12080.51046983, ...,\n",
       "       12214.48945487, 12214.50410374, 12214.51875262])"
      ]
     },
     "execution_count": 36,
     "metadata": {
      "tags": []
     },
     "output_type": "execute_result"
    }
   ],
   "source": [
    "predictions = model_arima_fit.forecast(steps=9151)[0]\n",
    "predictions"
   ]
  },
  {
   "cell_type": "code",
   "execution_count": null,
   "metadata": {
    "colab": {
     "base_uri": "https://localhost:8080/",
     "height": 283
    },
    "id": "2bpiMvWZo-CZ",
    "outputId": "f367be78-307f-4ffa-e4f4-0f1bfd144fe6"
   },
   "outputs": [
    {
     "data": {
      "text/plain": [
       "[<matplotlib.lines.Line2D at 0x7fe258961090>]"
      ]
     },
     "execution_count": 37,
     "metadata": {
      "tags": []
     },
     "output_type": "execute_result"
    },
    {
     "data": {
      "image/png": "[encoded data removed]",
      "text/plain": [
       "<Figure size 1080x288 with 1 Axes>"
      ]
     },
     "metadata": {
      "needs_background": "light",
      "tags": []
     },
     "output_type": "display_data"
    }
   ],
   "source": [
    "plt.figure(figsize=(15, 4))\n",
    "plt.plot(test)\n",
    "plt.plot(predictions,color='red')"
   ]
  },
  {
   "cell_type": "code",
   "execution_count": null,
   "metadata": {
    "colab": {
     "base_uri": "https://localhost:8080/"
    },
    "id": "lXeHnMHKpA8l",
    "outputId": "4a3972fb-3014-49ff-9d57-2c38c7974773"
   },
   "outputs": [
    {
     "name": "stdout",
     "output_type": "stream",
     "text": [
      "Mean Squared Error:  12582.88079592617\n",
      "R2 Score:  0.1393070596421997\n"
     ]
    }
   ],
   "source": [
    "print(\"Mean Squared Error: \", mean_squared_error(test, predictions))\n",
    "print(\"R2 Score: \", r2_score(test, predictions))"
   ]
  }
 ],
 "metadata": {
  "colab": {
   "collapsed_sections": [],
   "name": "Final_ARIMA.ipynb",
   "provenance": []
  },
  "kernelspec": {
   "display_name": "Python 3",
   "language": "python",
   "name": "python3"
  },
  "language_info": {
   "codemirror_mode": {
    "name": "ipython",
    "version": 3
   },
   "file_extension": ".py",
   "mimetype": "text/x-python",
   "name": "python",
   "nbconvert_exporter": "python",
   "pygments_lexer": "ipython3",
   "version": "3.8.9"
  }
 },
 "nbformat": 4,
 "nbformat_minor": 4
}
